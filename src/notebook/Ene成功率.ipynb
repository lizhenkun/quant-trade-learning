{
 "cells": [
  {
   "cell_type": "code",
   "execution_count": 200,
   "metadata": {},
   "outputs": [],
   "source": [
    "import QUANTAXIS as QA\n",
    "import pandas as pd\n",
    "from datetime import datetime\n",
    "\n",
    "\n",
    "CODES = [\n",
    "    '601816', # 美凯龙\n",
    "    '601816', # 中国高铁\n",
    "    '601318', # 中国平安\n",
    "    '600864', # 哈投股份\n",
    "    '300708', # 聚灿光电\n",
    "    '300347', # 泰格医药\n",
    "    '300152', # 科融环境\n",
    "    '002713', # 东易日盛\n",
    "    '002466', # 天齐锂业\n",
    "    '002351', # 漫步者\n",
    "    '002049', # 紫光国微\n",
    "    '000400', # 许继电气\n",
    "    '000723', # 美锦能源\n",
    "    '159977', # 创业板TH\n",
    "    '159995', # 芯片ETF\n",
    "]\n",
    "CODES = ['000723', '002466', '601318']\n",
    "now = datetime.now().strftime('%Y-%m-%d')"
   ]
  },
  {
   "cell_type": "code",
   "execution_count": 201,
   "metadata": {},
   "outputs": [],
   "source": [
    "def ene(data):\n",
    "    M1 = 11\n",
    "    M2 = 9\n",
    "    N = 10\n",
    "\n",
    "    data['MA%s' % N] = round(data['close'].rolling(N).mean(), 3)\n",
    "    data['ENE_UP'] = (1 + M1 / 100.0) * data['MA%s' % N]\n",
    "    data['ENE_LOW'] = (1 - M2 / 100.0) * data['MA%s' % N]\n",
    "    data['ENE'] = round((data['ENE_UP'] + data['ENE_LOW']) / 2, 3)\n",
    "    data['ENE_UP'] = round(data['ENE_UP'], 3)\n",
    "    data['ENE_LOW'] = round(data['ENE_LOW'], 3)"
   ]
  },
  {
   "cell_type": "code",
   "execution_count": 282,
   "metadata": {},
   "outputs": [],
   "source": [
    "def ene_buy_sell(data):\n",
    "    buy_position = data['ENE_LOW'] > data['low']\n",
    "    data.loc[buy_position[buy_position == True].index, 'buy_sell'] = 'buy'\n",
    "    sell_position = data['ENE_UP'] < data['high']\n",
    "    data.loc[sell_position[(sell_position == True) & (sell_position.shift() == False)].index, 'buy_sell'] = 'sell'"
   ]
  },
  {
   "cell_type": "code",
   "execution_count": 284,
   "metadata": {},
   "outputs": [],
   "source": [
    "data = QA.QA_fetch_stock_day_adv(CODES, '2000-01-01', now)"
   ]
  },
  {
   "cell_type": "code",
   "execution_count": 285,
   "metadata": {},
   "outputs": [],
   "source": [
    "qfq_data = data.to_qfq()\n",
    "# qfq_data.data.loc[(slice(None), '300027'),:]\n",
    "# qfq_data.data.loc[(slice(None), CODES),:]"
   ]
  },
  {
   "cell_type": "code",
   "execution_count": 286,
   "metadata": {},
   "outputs": [],
   "source": [
    "code = '000723'\n",
    "data = qfq_data.data.loc[(slice(None), code), :].copy()\n",
    "data.reset_index(inplace=True)\n",
    "# final_data = data[['date', 'open', 'high', 'low', 'close', 'volume', 'amount']].copy()\n",
    "final_data = data[['date', 'high', 'low', 'close']].copy()"
   ]
  },
  {
   "cell_type": "code",
   "execution_count": 287,
   "metadata": {},
   "outputs": [],
   "source": [
    "ene(final_data)\n",
    "ene_buy_sell(final_data)\n",
    "final_data = final_data[['date', 'high', 'close', 'buy_sell']].copy()"
   ]
  },
  {
   "cell_type": "code",
   "execution_count": 288,
   "metadata": {},
   "outputs": [],
   "source": [
    "# N天内最高价、最高收盘价\n",
    "days = [5, 13, 21, 42, 60]\n",
    "for day in days:\n",
    "    # final_data['HH%s' % day] = final_data['high'].rolling(day).max().shift(-day)\n",
    "    # final_data['HHR%s' % day] = (final_data['HH%s' % day] / final_data['close'] - 1)\n",
    "    final_data['HC%s' % day] = final_data['close'].rolling(day).max().shift(-day)\n",
    "    final_data['HCR%s' % day] = (final_data['HC%s' % day] / final_data['close'] - 1)"
   ]
  },
  {
   "cell_type": "code",
   "execution_count": 290,
   "metadata": {},
   "outputs": [],
   "source": [
    "final_data.to_csv('ene_%s.csv' % code, sep='\\t', index=False)"
   ]
  },
  {
   "cell_type": "code",
   "execution_count": 303,
   "metadata": {},
   "outputs": [
    {
     "name": "stdout",
     "output_type": "stream",
     "text": [
      "             HCR5       HCR13       HCR21       HCR42       HCR60\n",
      "count  376.000000  376.000000  376.000000  370.000000  368.000000\n",
      "mean     0.043342    0.102590    0.139875    0.223226    0.281685\n",
      "std      0.073090    0.152613    0.187045    0.277424    0.399947\n",
      "min     -0.100204   -0.100204   -0.100204   -0.100204   -0.100204\n",
      "25%     -0.001052    0.017739    0.029231    0.059262    0.065733\n",
      "50%      0.031579    0.065435    0.088948    0.140449    0.171470\n",
      "75%      0.079583    0.133490    0.187557    0.328460    0.376823\n",
      "max      0.466790    1.034156    1.162571    1.745387    4.786819\n",
      "N天内上涨概率\t买入总次数\t买入后上涨次数\t成功率\n",
      "5\t377\t278\t0.7374005305039788\n",
      "13\t377\t309\t0.8196286472148541\n",
      "21\t377\t321\t0.8514588859416445\n",
      "42\t377\t335\t0.8885941644562334\n",
      "60\t377\t336\t0.8912466843501327\n"
     ]
    }
   ],
   "source": [
    "pd.set_option('expand_frame_repr', False)\n",
    "for t, group in final_data.groupby('buy_sell'):\n",
    "    if t != 'buy':\n",
    "        continue\n",
    "    print(group[['HCR%s' % day for day in days]].describe())\n",
    "    print('N天内上涨概率\\t买入总次数\\t买入后上涨次数\\t成功率')\n",
    "    for day in days:\n",
    "        label = 'HCR%s' % day\n",
    "        total = group.shape[0]\n",
    "        succ = group[group[label] > 0].shape[0]\n",
    "        ratio = float(succ) / total\n",
    "        print(f'{day}\\t{total}\\t{succ}\\t{ratio}')"
   ]
  },
  {
   "cell_type": "code",
   "execution_count": null,
   "metadata": {},
   "outputs": [],
   "source": []
  }
 ],
 "metadata": {
  "kernelspec": {
   "display_name": "Python 3",
   "language": "python",
   "name": "python3"
  },
  "language_info": {
   "codemirror_mode": {
    "name": "ipython",
    "version": 3
   },
   "file_extension": ".py",
   "mimetype": "text/x-python",
   "name": "python",
   "nbconvert_exporter": "python",
   "pygments_lexer": "ipython3",
   "version": "3.7.3"
  }
 },
 "nbformat": 4,
 "nbformat_minor": 2
}
