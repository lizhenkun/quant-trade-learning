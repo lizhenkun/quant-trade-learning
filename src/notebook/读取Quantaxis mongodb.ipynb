{
 "cells": [
  {
   "cell_type": "code",
   "execution_count": 78,
   "metadata": {},
   "outputs": [],
   "source": [
    "import os\n",
    "import pymongo\n",
    "import pandas as pd"
   ]
  },
  {
   "cell_type": "code",
   "execution_count": 79,
   "metadata": {},
   "outputs": [],
   "source": [
    "myclient = pymongo.MongoClient('mongodb://localhost:27017/')\n",
    "dblist = myclient.list_database_names()"
   ]
  },
  {
   "cell_type": "code",
   "execution_count": 80,
   "metadata": {},
   "outputs": [
    {
     "data": {
      "text/plain": [
       "['admin', 'config', 'local', 'quantaxis']"
      ]
     },
     "execution_count": 80,
     "metadata": {},
     "output_type": "execute_result"
    }
   ],
   "source": [
    "dblist"
   ]
  },
  {
   "cell_type": "code",
   "execution_count": 81,
   "metadata": {},
   "outputs": [],
   "source": [
    "db_quantaxis = myclient['quantaxis']"
   ]
  },
  {
   "cell_type": "code",
   "execution_count": 82,
   "metadata": {},
   "outputs": [
    {
     "name": "stdout",
     "output_type": "stream",
     "text": [
      "['stock_xdxr', 'user_list', 'risk', 'etf_list', 'index_min', 'stock_info', 'portfolio', 'stock_block', 'stock_min', 'stock_adj', 'index_day', 'strategy', 'user', 'account', 'stock_list', 'future_day', 'usersetting', 'stock_day', 'index_list', 'future_list', 'future_min']\n"
     ]
    }
   ],
   "source": [
    "collections = db_quantaxis.list_collection_names()\n",
    "print(collections)"
   ]
  },
  {
   "cell_type": "code",
   "execution_count": 83,
   "metadata": {},
   "outputs": [],
   "source": [
    "table = db_quantaxis['stock_day']"
   ]
  },
  {
   "cell_type": "code",
   "execution_count": 84,
   "metadata": {},
   "outputs": [
    {
     "data": {
      "text/plain": [
       "{'_id': ObjectId('5e9165e96e17d64ee92905c7'),\n",
       " 'open': 49.0,\n",
       " 'close': 49.0,\n",
       " 'high': 49.0,\n",
       " 'low': 49.0,\n",
       " 'vol': 32768.5,\n",
       " 'amount': 5000.0,\n",
       " 'date': '1991-04-03',\n",
       " 'code': '000001',\n",
       " 'date_stamp': 670608000.0}"
      ]
     },
     "execution_count": 84,
     "metadata": {},
     "output_type": "execute_result"
    }
   ],
   "source": [
    "row = table.find_one()\n",
    "row"
   ]
  },
  {
   "cell_type": "code",
   "execution_count": 114,
   "metadata": {},
   "outputs": [],
   "source": [
    "# rows = table.find({'code': '000001'})\n",
    "codes = [\n",
    "    '601816', # 美凯龙\n",
    "    '601816', # 中国高铁\n",
    "    '601318', # 中国平安\n",
    "    '600864', # 哈投股份\n",
    "    '300708', # 聚灿光电\n",
    "    '300347', # 泰格医药\n",
    "    '300152', # 科融环境\n",
    "    '002713', # 东易日盛\n",
    "    '002466', # 天齐锂业\n",
    "    '002351', # 漫步者\n",
    "    '002049', # 紫光国微\n",
    "    '000400', # 许继电气\n",
    "    '000723', # 美锦能源\n",
    "    '159977', # 创业板TH\n",
    "    '159995', # 芯片ETF\n",
    "]\n",
    "codes = ['300027']\n",
    "cursor = table.find({'code': {'$in': codes}})"
   ]
  },
  {
   "cell_type": "code",
   "execution_count": 86,
   "metadata": {},
   "outputs": [
    {
     "data": {
      "text/plain": [
       "<pymongo.cursor.Cursor at 0x118885cf8>"
      ]
     },
     "execution_count": 86,
     "metadata": {},
     "output_type": "execute_result"
    }
   ],
   "source": [
    "cursor"
   ]
  },
  {
   "cell_type": "code",
   "execution_count": 115,
   "metadata": {},
   "outputs": [],
   "source": [
    "res = pd.DataFrame([item for item in cursor])"
   ]
  },
  {
   "cell_type": "code",
   "execution_count": 116,
   "metadata": {},
   "outputs": [],
   "source": [
    "res_new = res.assign(\n",
    "    volume=res.vol,\n",
    "    date=pd.to_datetime(res.date)\n",
    ").drop_duplicates((['date', 'code'])).query('volume>1').set_index('date', drop=False)"
   ]
  },
  {
   "cell_type": "code",
   "execution_count": 117,
   "metadata": {
    "scrolled": true
   },
   "outputs": [],
   "source": [
    "final_res = res_new.loc[:, [\n",
    "  'code',\n",
    "  'open',\n",
    "  'high',\n",
    "  'low',\n",
    "  'close',\n",
    "  'volume',\n",
    "  'amount',\n",
    "  'date']\n",
    "]"
   ]
  },
  {
   "cell_type": "code",
   "execution_count": 119,
   "metadata": {},
   "outputs": [
    {
     "data": {
      "text/html": [
       "<div>\n",
       "<style scoped>\n",
       "    .dataframe tbody tr th:only-of-type {\n",
       "        vertical-align: middle;\n",
       "    }\n",
       "\n",
       "    .dataframe tbody tr th {\n",
       "        vertical-align: top;\n",
       "    }\n",
       "\n",
       "    .dataframe thead th {\n",
       "        text-align: right;\n",
       "    }\n",
       "</style>\n",
       "<table border=\"1\" class=\"dataframe\">\n",
       "  <thead>\n",
       "    <tr style=\"text-align: right;\">\n",
       "      <th></th>\n",
       "      <th>code</th>\n",
       "      <th>open</th>\n",
       "      <th>high</th>\n",
       "      <th>low</th>\n",
       "      <th>close</th>\n",
       "      <th>volume</th>\n",
       "      <th>amount</th>\n",
       "      <th>date</th>\n",
       "    </tr>\n",
       "    <tr>\n",
       "      <th>date</th>\n",
       "      <th></th>\n",
       "      <th></th>\n",
       "      <th></th>\n",
       "      <th></th>\n",
       "      <th></th>\n",
       "      <th></th>\n",
       "      <th></th>\n",
       "      <th></th>\n",
       "    </tr>\n",
       "  </thead>\n",
       "  <tbody>\n",
       "    <tr>\n",
       "      <th>2011-04-14</th>\n",
       "      <td>300027</td>\n",
       "      <td>27.10</td>\n",
       "      <td>27.30</td>\n",
       "      <td>26.75</td>\n",
       "      <td>26.9</td>\n",
       "      <td>26406.0</td>\n",
       "      <td>71263504.0</td>\n",
       "      <td>2011-04-14</td>\n",
       "    </tr>\n",
       "    <tr>\n",
       "      <th>2011-04-15</th>\n",
       "      <td>300027</td>\n",
       "      <td>14.79</td>\n",
       "      <td>14.83</td>\n",
       "      <td>14.51</td>\n",
       "      <td>14.6</td>\n",
       "      <td>32896.0</td>\n",
       "      <td>48017348.0</td>\n",
       "      <td>2011-04-15</td>\n",
       "    </tr>\n",
       "  </tbody>\n",
       "</table>\n",
       "</div>"
      ],
      "text/plain": [
       "              code   open   high    low  close   volume      amount       date\n",
       "date                                                                          \n",
       "2011-04-14  300027  27.10  27.30  26.75   26.9  26406.0  71263504.0 2011-04-14\n",
       "2011-04-15  300027  14.79  14.83  14.51   14.6  32896.0  48017348.0 2011-04-15"
      ]
     },
     "execution_count": 119,
     "metadata": {},
     "output_type": "execute_result"
    }
   ],
   "source": [
    "final_res.loc[[pd.to_datetime('2011-04-14'), pd.to_datetime('2011-04-15')]]"
   ]
  },
  {
   "cell_type": "code",
   "execution_count": 141,
   "metadata": {},
   "outputs": [
    {
     "data": {
      "text/plain": [
       "{'_id': ObjectId('5eaad0e07a181ec9c2a09e3e'),\n",
       " 'date': '1991-04-03',\n",
       " 'code': '000001',\n",
       " 'adj': 0.0039214009}"
      ]
     },
     "execution_count": 141,
     "metadata": {},
     "output_type": "execute_result"
    }
   ],
   "source": [
    "stock_adj = db_quantaxis['stock_adj']"
   ]
  },
  {
   "cell_type": "code",
   "execution_count": 145,
   "metadata": {},
   "outputs": [],
   "source": [
    "cursor = stock_adj.find({'code': {'$in': codes}})"
   ]
  },
  {
   "cell_type": "code",
   "execution_count": 146,
   "metadata": {},
   "outputs": [],
   "source": [
    "adj = pd.DataFrame([item for item in cursor])"
   ]
  },
  {
   "cell_type": "code",
   "execution_count": 179,
   "metadata": {},
   "outputs": [
    {
     "data": {
      "text/html": [
       "<div>\n",
       "<style scoped>\n",
       "    .dataframe tbody tr th:only-of-type {\n",
       "        vertical-align: middle;\n",
       "    }\n",
       "\n",
       "    .dataframe tbody tr th {\n",
       "        vertical-align: top;\n",
       "    }\n",
       "\n",
       "    .dataframe thead th {\n",
       "        text-align: right;\n",
       "    }\n",
       "</style>\n",
       "<table border=\"1\" class=\"dataframe\">\n",
       "  <thead>\n",
       "    <tr style=\"text-align: right;\">\n",
       "      <th></th>\n",
       "      <th>_id</th>\n",
       "      <th>adj</th>\n",
       "      <th>code</th>\n",
       "      <th>date</th>\n",
       "    </tr>\n",
       "  </thead>\n",
       "  <tbody>\n",
       "    <tr>\n",
       "      <th>344</th>\n",
       "      <td>5eaad4407a181ec9c2e4a717</td>\n",
       "      <td>0.133010</td>\n",
       "      <td>300027</td>\n",
       "      <td>2011-04-11</td>\n",
       "    </tr>\n",
       "    <tr>\n",
       "      <th>345</th>\n",
       "      <td>5eaad4407a181ec9c2e4a718</td>\n",
       "      <td>0.133010</td>\n",
       "      <td>300027</td>\n",
       "      <td>2011-04-12</td>\n",
       "    </tr>\n",
       "    <tr>\n",
       "      <th>346</th>\n",
       "      <td>5eaad4407a181ec9c2e4a719</td>\n",
       "      <td>0.133010</td>\n",
       "      <td>300027</td>\n",
       "      <td>2011-04-13</td>\n",
       "    </tr>\n",
       "    <tr>\n",
       "      <th>347</th>\n",
       "      <td>5eaad4407a181ec9c2e4a71a</td>\n",
       "      <td>0.133010</td>\n",
       "      <td>300027</td>\n",
       "      <td>2011-04-14</td>\n",
       "    </tr>\n",
       "    <tr>\n",
       "      <th>348</th>\n",
       "      <td>5eaad4407a181ec9c2e4a71b</td>\n",
       "      <td>0.241211</td>\n",
       "      <td>300027</td>\n",
       "      <td>2011-04-15</td>\n",
       "    </tr>\n",
       "  </tbody>\n",
       "</table>\n",
       "</div>"
      ],
      "text/plain": [
       "                          _id       adj    code        date\n",
       "344  5eaad4407a181ec9c2e4a717  0.133010  300027  2011-04-11\n",
       "345  5eaad4407a181ec9c2e4a718  0.133010  300027  2011-04-12\n",
       "346  5eaad4407a181ec9c2e4a719  0.133010  300027  2011-04-13\n",
       "347  5eaad4407a181ec9c2e4a71a  0.133010  300027  2011-04-14\n",
       "348  5eaad4407a181ec9c2e4a71b  0.241211  300027  2011-04-15"
      ]
     },
     "execution_count": 179,
     "metadata": {},
     "output_type": "execute_result"
    }
   ],
   "source": [
    "adj.loc[(adj.date >= '2011-04-11') & (adj.date <= '2011-04-15')]"
   ]
  },
  {
   "cell_type": "code",
   "execution_count": 180,
   "metadata": {},
   "outputs": [
    {
     "data": {
      "text/plain": [
       "3.5779689999999995"
      ]
     },
     "execution_count": 180,
     "metadata": {},
     "output_type": "execute_result"
    }
   ],
   "source": [
    "26.9 * 0.133010"
   ]
  },
  {
   "cell_type": "code",
   "execution_count": 181,
   "metadata": {},
   "outputs": [
    {
     "data": {
      "text/plain": [
       "3.5216806"
      ]
     },
     "execution_count": 181,
     "metadata": {},
     "output_type": "execute_result"
    }
   ],
   "source": [
    "14.6 * 0.241211"
   ]
  },
  {
   "cell_type": "code",
   "execution_count": null,
   "metadata": {},
   "outputs": [],
   "source": []
  }
 ],
 "metadata": {
  "kernelspec": {
   "display_name": "Python 3",
   "language": "python",
   "name": "python3"
  },
  "language_info": {
   "codemirror_mode": {
    "name": "ipython",
    "version": 3
   },
   "file_extension": ".py",
   "mimetype": "text/x-python",
   "name": "python",
   "nbconvert_exporter": "python",
   "pygments_lexer": "ipython3",
   "version": "3.7.3"
  }
 },
 "nbformat": 4,
 "nbformat_minor": 2
}
