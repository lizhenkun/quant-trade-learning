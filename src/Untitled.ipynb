{
 "cells": [
  {
   "cell_type": "code",
   "execution_count": 1,
   "metadata": {},
   "outputs": [
    {
     "name": "stdout",
     "output_type": "stream",
     "text": [
      "     Unnamed: 0    ts_code  trade_date   open   high    low  close  pre_close  \\\n",
      "0             0  000938.SZ    20150526  32.04  32.04  32.04  32.04      29.13   \n",
      "1             1  000938.SZ    20150527  35.24  35.24  35.24  35.24      32.04   \n",
      "2             2  000938.SZ    20150528  38.76  38.76  38.76  38.76      35.24   \n",
      "3             3  000938.SZ    20150529  42.64  42.64  42.64  42.64      38.76   \n",
      "4             4  000938.SZ    20150601  46.90  46.90  46.90  46.90      42.64   \n",
      "..          ...        ...         ...    ...    ...    ...    ...        ...   \n",
      "772         772  000938.SZ    20180921  42.05  42.75  41.60  42.43      41.86   \n",
      "773         773  000938.SZ    20180925  42.28  43.20  42.02  42.65      42.43   \n",
      "774         774  000938.SZ    20180926  42.95  43.10  42.35  42.90      42.65   \n",
      "775         775  000938.SZ    20180927  42.68  43.10  41.96  42.06      42.90   \n",
      "776         776  000938.SZ    20180928  42.00  42.45  41.68  42.13      42.06   \n",
      "\n",
      "     change  pct_chg       vol       amount  \n",
      "0      2.91   9.9900    541.79    1735.8952  \n",
      "1      3.20   9.9900    373.63    1316.6721  \n",
      "2      3.52   9.9900   1313.40    5090.7384  \n",
      "3      3.88  10.0100    782.63    3337.1343  \n",
      "4      4.26   9.9900    342.84    1607.9196  \n",
      "..      ...      ...       ...          ...  \n",
      "772    0.57   1.3617  31266.46  132052.3480  \n",
      "773    0.22   0.5185  28069.92  119943.1350  \n",
      "774    0.25   0.5862  28850.11  123336.9960  \n",
      "775   -0.84  -1.9580  28004.20  118953.8560  \n",
      "776    0.07   0.1664  23828.16  100363.5440  \n",
      "\n",
      "[777 rows x 12 columns]\n"
     ]
    },
    {
     "ename": "NameError",
     "evalue": "name 'opts' is not defined",
     "output_type": "error",
     "traceback": [
      "\u001b[0;31m---------------------------------------------------------------------------\u001b[0m",
      "\u001b[0;31mNameError\u001b[0m                                 Traceback (most recent call last)",
      "\u001b[0;32m<ipython-input-1-5e9a676d768e>\u001b[0m in \u001b[0;36m<module>\u001b[0;34m\u001b[0m\n\u001b[1;32m     32\u001b[0m \u001b[0mkline\u001b[0m\u001b[0;34m.\u001b[0m\u001b[0madd_xaxis\u001b[0m\u001b[0;34m(\u001b[0m\u001b[0mdate\u001b[0m\u001b[0;34m)\u001b[0m\u001b[0;34m.\u001b[0m\u001b[0madd_yaxis\u001b[0m\u001b[0;34m(\u001b[0m\u001b[0;34m'日K'\u001b[0m\u001b[0;34m,\u001b[0m \u001b[0mdata\u001b[0m\u001b[0;34m)\u001b[0m\u001b[0;34m\u001b[0m\u001b[0;34m\u001b[0m\u001b[0m\n\u001b[1;32m     33\u001b[0m kline.set_global_opts(\n\u001b[0;32m---> 34\u001b[0;31m     \u001b[0mxaxis_opts\u001b[0m\u001b[0;34m=\u001b[0m\u001b[0mopts\u001b[0m\u001b[0;34m.\u001b[0m\u001b[0mAxisOpts\u001b[0m\u001b[0;34m(\u001b[0m\u001b[0mis_scale\u001b[0m\u001b[0;34m=\u001b[0m\u001b[0;32mTrue\u001b[0m\u001b[0;34m)\u001b[0m\u001b[0;34m,\u001b[0m\u001b[0;34m\u001b[0m\u001b[0;34m\u001b[0m\u001b[0m\n\u001b[0m\u001b[1;32m     35\u001b[0m )\n\u001b[1;32m     36\u001b[0m \u001b[0;31m# kline.add_yaxis(\u001b[0m\u001b[0;34m\u001b[0m\u001b[0;34m\u001b[0m\u001b[0;34m\u001b[0m\u001b[0m\n",
      "\u001b[0;31mNameError\u001b[0m: name 'opts' is not defined"
     ]
    }
   ],
   "source": [
    "# from pyecharts.charts.basic_charts.kline import Kline\n",
    "from pyecharts.charts import Kline\n",
    "from pyecharts import options as opts\n",
    "import tushare as ts\n",
    "import pandas as pd\n",
    "import os\n",
    "file_name = 'aaa.csv'\n",
    "if not os.path.exists('aaa.csv'):\n",
    "    MY_TOKEN = '190040a13eb5b092ca76fa003f58d693c9121e0fc621f6d2ad221468'\n",
    "    ts.set_token(MY_TOKEN)\n",
    "    pro = ts.pro_api()\n",
    "    df1 = pro.daily(ts_code='000938.SZ', start_date='20150401', end_date='20180930')\n",
    "    df=df1.sort_values(by=['trade_date'])\n",
    "    df.reset_index(level=0,inplace=True)\n",
    "    df.drop(['index'],axis=1,inplace=True)\n",
    "    print(df)\n",
    "    df.to_csv(file_name)\n",
    "\n",
    "df = pd.read_csv(file_name)\n",
    "print(df)\n",
    "date = df.trade_date.tolist()\n",
    "data = []\n",
    "for idx in df.index :\n",
    "     row=[df.iloc[idx]['open'],df.iloc[idx]['close'],df.iloc[idx]['low'],df.iloc[idx]['high']]\n",
    "     data.append(row)\n",
    "WIDTH = 1100\n",
    "HEIGHT = 550\n",
    "chart_init = {\n",
    "    \"width\": WIDTH,\n",
    "    \"height\": HEIGHT,\n",
    "}\n",
    "kline = Kline()\n",
    "kline.add_xaxis(date).add_yaxis('日K', data)\n",
    "kline.set_global_opts(\n",
    "    xaxis_opts=opts.AxisOpts(is_scale=True),\n",
    ")\n",
    "# kline.add_yaxis(\n",
    "#     \"日K\",\n",
    "#     date,\n",
    "#     data,\n",
    "#     mark_point=[\"max\"],\n",
    "#     is_datazoom_show=True,\n",
    "# )\n",
    "# 生成一个名为 render.html 的文件\n",
    "kline.render()\n",
    "kline.render_notebook()\n",
    "# kline.render('a.html')\n",
    "# 在jupyter中使用，只需要使用xxx.render_notebook() 方法即可在Jupyter中显示图"
   ]
  }
 ],
 "metadata": {
  "kernelspec": {
   "display_name": "Python 3",
   "language": "python",
   "name": "python3"
  },
  "language_info": {
   "codemirror_mode": {
    "name": "ipython",
    "version": 3
   },
   "file_extension": ".py",
   "mimetype": "text/x-python",
   "name": "python",
   "nbconvert_exporter": "python",
   "pygments_lexer": "ipython3",
   "version": "3.7.3"
  }
 },
 "nbformat": 4,
 "nbformat_minor": 2
}
